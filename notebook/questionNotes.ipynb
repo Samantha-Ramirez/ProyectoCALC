{
 "cells": [
  {
   "cell_type": "markdown",
   "id": "4a125d27",
   "metadata": {},
   "source": [
    "- espacio vectorial $V$ de funciones periodicas con periodo \n",
    "$$p=2\\pi \\\\\n",
    "f:C\\rightarrow C\\\\\n",
    "f(t)=f(t+p)$$\n",
    "\n",
    "- espacio que forma base ortonormal \n",
    "$$B\\sub V, B=\\{\\phi_0,\\cdots,\\phi_{n-1}\\} $$\n",
    "\n",
    "- elementos de base ortonormal\n",
    "$$(2) \\quad \\phi_j(x)=e^{ijx}=\\left( e^{\\frac{2\\pi i}{n}} \\right)^{jk}=\\overline{\\omega}^{jk}, \\quad j=0\\cdots n \\\\\n",
    "\\overline{\\phi_j(x)}=e^{-ijx}=\\left( e^{\\frac{-2\\pi i}{n}} \\right)^{jk}=\\omega^{jk}$$\n",
    "\n",
    "- producto interno\n",
    "$$(3) \\quad \\lang f, g\\rang = \\frac{1}{2\\pi}\\int_{-\\pi}^{\\pi}f(t)\\overline {g(t)}dt$$\n",
    "\n",
    "- casi producto interno discreto\n",
    "$$(4) \\quad \\lang f, g\\rang_n=\\frac{1}{n}\\sum_{k=0}^{n-1}f(x_k)\\overline{g(x_k)}$$\n",
    "\n",
    "- números reales distintos\n",
    "$$x_0,\\cdots, x_n \\\\\n",
    "x_k=\\frac{2\\pi k }{n}, \\quad k=0\\cdots n-1$$\n",
    "\n",
    "- números arbitrarios\n",
    "$$y_0,\\cdots, y_n \\\\\n",
    "y_k=p(x_k)=f(x_k), \\quad k = 0 \\dots n-1 \\\\\n",
    "(8)\\quad y_k = f(x_k) = \\sum_{j=0}^{n-1} c_j \\overline{\\omega}^{jk} \\quad \\text{ Inversa de transformada discreta de Fourier}\n",
    "$$\n",
    "\n",
    "- interpolador trigonométrico\n",
    "$$(5) \\quad f(x)\\approx p(x)=\\sum_{j=0}^{n-1}c_j\\phi_j(x)$$\n",
    "\n",
    "- Si espacio con producto interno, base ortonormal de $V$ entonces\n",
    "$$f=\\lang \\phi_0, f\\rang \\phi_0+\\cdots+\\lang \\phi_{n-1}, f\\rang \\phi_{n-1}$$\n",
    "\n",
    "- coeficientes de la combinación lineal (condiciones de interpolación) \n",
    "$$(6)\\quad c_j = \\lang f, \\phi_j \\rang_n = \\frac{1}{n} \\sum_{k=0}^{n-1} f(x_k) \\overline{\\phi_j(x_k)} = \\frac{1}{n} \\sum_{k=0}^{n-1} f(x_k) e^{-ijx_k}, \\quad j = 0\\dots n-1 \\\\\n",
    "(7) \\quad c_j = \\frac{1}{n} \\sum_{k=0}^{n-1} y_k \\omega^{jk} \\quad \\text{ Transformada discreta de Fourier}\n",
    "$$"
   ]
  }
 ],
 "metadata": {
  "language_info": {
   "name": "python"
  }
 },
 "nbformat": 4,
 "nbformat_minor": 5
}

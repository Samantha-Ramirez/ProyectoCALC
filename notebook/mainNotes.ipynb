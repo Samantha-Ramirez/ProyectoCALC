{
 "cells": [
  {
   "cell_type": "markdown",
   "id": "2a66c715",
   "metadata": {},
   "source": [
    "**Análisis espectral de marcado de número telefónicos**\n",
    "\n",
    "**Codificación**\n",
    "\n",
    "1. Permitir pulsar los dígitos en un teclado telefónico estándar. Cada\n",
    "pulso debe ir acompañado de\n",
    "    - El sonido asociado al dígito marcado\n",
    "    - La gráfica de la señal senoidal asociada (gráfica continua)\n",
    "    - La gráfica de las frecuencias que generan la gráfica continua (gráfica discreta)\n",
    "\n",
    "    Considerar\n",
    "    - Sistema de marcación por tonos DTMF: asignar a cada fila y columna del teclado de un teléfono una frecuencia básica\n",
    "    - $F_s = 32768$\n",
    "    - $f_r = [697 \\quad 770 \\quad 852 \\quad 941] \\quad y \\quad f_c = [1209 \\quad 1336 \\quad 1477]$\n",
    "    - Vector $f_r\\in\\R^4$ contiene las frecuencias para las 4 filas\n",
    "    - Vector $f_c\\in\\R^3$ contiene las frecuencias para las 3 columnas\n",
    "    - Señal de sonido $y$ asociada a la tecla ubicada en la posición $(k,j)$ \n",
    "    - Señal tiene duración de $T = 0.25 seg$\n",
    "    - Señal se genera mediante la superposición de dos tonos fundamentales con frecuencias $f_r(k),f_c(j)$\n",
    "    $$\n",
    "    y=(y_1+y_2)/2 \\\\\n",
    "    y_1=sin(2\\pi f_r(k)t) \\\\\n",
    "    y_2=sin(2\\pi f_c(j)t) \\\\\n",
    "    t\\in[0,T]\n",
    "    $$\n",
    "\n",
    "**Deodificación**\n",
    "\n",
    "2. Permitir cargar una señal almacenada en un archivo externo asociada a un número telefónico de 11 dígitos \n",
    "    - Reproducir la señal cargada\n",
    "    - Decodificar la señal \n",
    "    - Mostrar los dígitos marcados\n",
    "    - Graficar la señal cargada\n",
    "\n",
    "    Considerar\n",
    "    - Decodificar con la transformada discreta de Fourier\n",
    "    - Se quiere hallar coeficientes $c_j$ que definen al interpolante trigonométrico\n",
    "    - Algoritmo Transformada Rápida de Fourier FFT calcula los coeficientes"
   ]
  }
 ],
 "metadata": {
  "language_info": {
   "name": "python"
  }
 },
 "nbformat": 4,
 "nbformat_minor": 5
}

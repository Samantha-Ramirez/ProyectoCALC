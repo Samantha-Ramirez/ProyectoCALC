{
 "cells": [
  {
   "cell_type": "markdown",
   "id": "4a125d27",
   "metadata": {},
   "source": [
    "- números reales distintos\n",
    "$$x_0,\\cdots, x_n \\\\\n",
    "x_k=2\\pi k /n, k=0\\cdots n-1$$\n",
    "\n",
    "- valores arbitrarios\n",
    "$$y_0,\\cdots, y_n \\\\\n",
    "y_k=p(x_k)=f(x_k) \\\\\n",
    "(8)\\quad y_k = f(x_k) = \\sum_{j=0}^{n-1} c_j \\overline{\\omega}^{jk}, \\quad k = 0, 1, \\dots, n-1, \\omega = e^{\\frac{2\\pi i}{n}}\n",
    "$$\n",
    "\n",
    "- interpolador polinómico\n",
    "$$p_n(x_i)=f(x_i)=y_i \\\\\n",
    "f(x)\\approx p_n(x)=\\sum_{j=0}^{n}c_jb_j(x)$$\n",
    "\n",
    "- interpolador trigonométrico de $f$ en los nodos $$x_k=2\\pi k /n, k=0\\cdots n-1 \\\\\n",
    "(5) \\quad f(x)\\approx p(x)=\\sum_{j=0}^{n-1}c_j\\phi_j(x)=\\sum_{j=0}^{n-1}c_j e^{ijx}$$\n",
    "\n",
    "- coeficientes de la combinación lineal (condiciones de interpolación) \n",
    "$$(6)\\quad c_j = \\lang f, \\phi_j \\rang_n = \\frac{1}{n} \\sum_{k=0}^{n-1} f(x_k) \\overline{\\phi_j(x_k)} = \\frac{1}{n} \\sum_{k=0}^{n-1} f(x_k) e^{-ijx_k}, \\quad j = 0, 1, \\dots, n-1 \\\\\n",
    "(7) \\quad c_j = \\frac{1}{n} \\sum_{k=0}^{n-1} y_k \\omega^{jk}, \\quad j = 0, 1, \\dots, n-1, \\omega = e^{\\frac{-2\\pi i}{n}}\n",
    "\n",
    "$$\n",
    "\n",
    "- función periódica \n",
    "$$f(t)=f(t+p)$$\n",
    "\n",
    "- espacio vectorial $V$ de funciones periodicas con periodo $$p=2\\pi \\\\\n",
    "f:C\\rightarrow C$$\n",
    "\n",
    "- espacio que forma base ortonormal \n",
    "$$B\\sub V, B=\\{\\phi_0,\\cdots,\\phi_{n-1}\\} $$\n",
    "\n",
    "- elementos de base ortonormal\n",
    "$$(2) \\quad \\phi_j(x)=e^{ijx}=\\left( e^{\\frac{2\\pi i}{n}} \\right)^{jk}, j=e\\cdots n \\\\\n",
    "\\overline{\\phi_j(x)}=e^{-ijx}=\\left( e^{\\frac{-2\\pi i}{n}} \\right)^{jk}$$\n",
    "\n",
    "- producto interno\n",
    "$$(3) \\quad \\lang f, g\\rang = \\frac{1}{2\\pi}\\int_{-\\pi}^{\\pi}f(t)\\overline {g(t)}dt$$\n",
    "\n",
    "- casi producto interno discreto\n",
    "$$(4) \\quad \\lang f, g\\rang_n=\\frac{1}{n}\\sum_{k=0}^{n-1}f(x_k)\\overline{g(x_k)}$$\n",
    "\n",
    "- Si espacio con producto interno, base ortonormal de V entonces\n",
    "$$f=\\lang \\phi_0, f\\rang \\phi_0+\\cdots+\\lang \\phi_{n-1}, f\\rang \\phi_{n-1}$$"
   ]
  }
 ],
 "metadata": {
  "language_info": {
   "name": "python"
  }
 },
 "nbformat": 4,
 "nbformat_minor": 5
}

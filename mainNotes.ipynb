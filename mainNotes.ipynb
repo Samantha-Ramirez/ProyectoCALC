{
 "cells": [
  {
   "cell_type": "markdown",
   "id": "2a66c715",
   "metadata": {},
   "source": [
    "\n",
    "\n",
    "**Análisis espectral de marcado de número telefónicos**\n",
    "\n",
    "**Deodificación**\n",
    "- Cargar una señal almacenada en un archivo externo asociada a un número telefónico de 11 dígitos\n",
    "- Decodificar con la transformada discreta de Fourier\n",
    "- Se quiere hallar coeficientes $c_j$ que definen al interpolante trigonométrico en (5)\n",
    "- Algoritmo Transformada Rápida de Fourier FFT calcula los coeficientes\n",
    "\n",
    "**Codificación**\n",
    "- Cuando pulsa un dígito en teclado de telf (dato discreto) se produce un sonido (dato continuo)\n",
    "- Sistema de marcación por tonos DTMF: asignar a cada fila y columna del teclado de un teléfono una frecuencia básica\n",
    "    - Vector $f_r\\in\\R^4$ contiene las frecuencias para las 4 filas\n",
    "    - Vector $f_c\\in\\R^3$ contiene las frecuencias para las 3 columnas\n",
    "    - Señal de sonido $y$ asociada a la tecla ubicada en la posición $(k,j)$ \n",
    "    - Tiene duración de $T seg$\n",
    "    - Se genera mediante la superposición de dos tonos fundamentales con frecuencias $f_r(k),f_c(j)$\n",
    "    $$\n",
    "    y=(y_1+y_2)/2 \\\\\n",
    "    y_1=sin(2\\pi f_r(k)t) \\\\\n",
    "    y_2=sin(2\\pi f_c(j)t) \\\\\n",
    "    t\\in[0,T]\n",
    "    $$"
   ]
  }
 ],
 "metadata": {
  "language_info": {
   "name": "python"
  }
 },
 "nbformat": 4,
 "nbformat_minor": 5
}

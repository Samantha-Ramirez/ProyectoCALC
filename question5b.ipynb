{
 "cells": [
  {
   "cell_type": "markdown",
   "id": "37ecd992",
   "metadata": {},
   "source": [
    "Por lo tanto, la matriz $ F = [f_{jk}] $ tiene entradas:\n",
    "$ f_{jk} = \\frac{1}{n} \\omega^{jk}, $\n",
    "donde $ j $ y $ k $ van de 0 a $ n-1 $.\n",
    "$ F^H F = \\frac{1}{n} I $\n",
    "- La transpuesta conjugada $ F^H $ se obtiene tomando la transpuesta de $ F $ y conjugando cada elemento\n",
    "- Dado que $ F = [f_{jk}] $ con $ f_{jk} = \\frac{1}{n} \\omega^{jk} $, la transpuesta de $ F $ tiene elementos $ f_{kj} $, y $ F^H = [\\bar{f}_{kj}] $, donde $ \\bar{f}_{kj} $ es el conjugado de $ f_{kj} $. Como $ \\omega^{jk} = (e^{-2\\pi i / n})^{jk} $ y su conjugado es $ \\overline{\\omega^{jk}} = \\omega^{-jk} = (e^{2\\pi i / n})^{jk} $, tenemos:\n",
    "$ \\bar{f}_{kj} = \\overline{\\frac{1}{n} \\omega^{jk}} = \\frac{1}{n} \\omega^{-jk}. $\n",
    "- Por lo tanto, $ F^H $ es:\n",
    "1 & 1 & \\cdots & 1 \\\\\n",
    "\\omega^{-1} & \\omega^{-2} & \\cdots & \\omega^{-(n-1)} \\\\\n",
    "\\omega^{-2} & \\omega^{-4} & \\cdots & \\omega^{-2(n-1)} \\\\\n",
    "\\vdots & \\vdots & \\ddots & \\vdots \\\\\n",
    "\\omega^{-(n-1)} & \\omega^{-2(n-1)} & \\cdots & \\omega^{-(n-1)(n-1)}\n",
    "\\end{bmatrix}.  $$\n",
    "\n",
    "Cálculo de $ F^H F $\n",
    "- El producto $ F^H F $ es una matriz $ n \\times n $ donde el elemento $(j, k)$-ésimo es el producto interno de la fila $ j $ de $ F^H $ y la columna $ k $ de $ F $.\n",
    "- El elemento $(j, k)$-ésimo de $ F^H F $ es:\n",
    "$ (F^H F)_{jk} = \\sum_{m=0}^{n-1} (F^H)_{jm} F_{mk}. $\n",
    "- Sustituyendo los elementos:\n",
    "$ (F^H)_{jm} = \\frac{1}{n} \\omega^{-jm}, \\quad F_{mk} = \\frac{1}{n} \\omega^{mk}, $\n",
    "entonces:\n",
    "$ (F^H F)_{jk} = \\sum_{m=0}^{n-1} \\left( \\frac{1}{n} \\omega^{-jm} \\right) \\left( \\frac{1}{n} \\omega^{mk} \\right) = \\frac{1}{n^2} \\sum_{m=0}^{n-1} \\omega^{m(k-j)}. $\n",
    "- Si k=j entonces $ k - j = 0 $, y:\n",
    "$ \\sum_{m=0}^{n-1} \\omega^{m \\cdot 0} = \\sum_{m=0}^{n-1} 1 = n. $\n",
    "- Si $ k \\neq j $, la suma es una serie geométrica con razón $ \\omega^{k-j} $. Dado que $ \\omega^n = (e^{-2\\pi i / n})^n = e^{-2\\pi i} = 1 $, la suma es:\n",
    "$ \\sum_{m=0}^{n-1} (\\omega^{k-j})^m = \\frac{1 - (\\omega^{k-j})^n}{1 - \\omega^{k-j}}. $\n",
    "Como $ (\\omega^{k-j})^n = \\omega^{n(k-j)} = (e^{-2\\pi i / n})^{n(k-j)} = e^{-2\\pi i (k-j)} = 1 $ (ya que $ k-j $ es un entero), la suma es:\n",
    "$ \\frac{1 - 1}{1 - \\omega^{k-j}} = 0, $\n",
    "siempre que $ \\omega^{k-j} \\neq 1 $ (lo cual es cierto para $ k \\neq j $ y $ n $ suficientemente grande, considerando las propiedades de las raíces de la unidad).\n",
    "- Así, $ (F^H F)_{jk} = \\frac{1}{n^2} \\cdot n = \\frac{1}{n} $ si $ j = k $, y $ 0 $ si $ j \\neq k $.\n",
    "- Por lo tanto, $ F^H F = \\frac{1}{n} I $, donde $ I $ es la matriz identidad de orden $ n $.\n",
    "\n",
    "Desprende $ F^{-1} = n F^H $:\n",
    "\n",
    "Dado que $ F^H F = \\frac{1}{n} I $, multiplicamos ambos lados por $ F^{-1} $ a la izquierda:\n",
    "$ F^{-1} (F^H F) = F^{-1} \\cdot \\frac{1}{n} I, $\n",
    "$ (F^{-1} F^H) F = \\frac{1}{n} F^{-1}, $\n",
    "$ I F = \\frac{1}{n} F^{-1}, $\n",
    "$ F^{-1} = n F^{-1} F^H F. $\n",
    "Como $ F^H F = \\frac{1}{n} I $, se sigue que $ F^{-1} = n F^H $."
   ]
  }
 ],
 "metadata": {
  "language_info": {
   "name": "python"
  }
 },
 "nbformat": 4,
 "nbformat_minor": 5
}
